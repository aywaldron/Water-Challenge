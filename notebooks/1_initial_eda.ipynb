{
 "cells": [
  {
   "cell_type": "code",
   "execution_count": 38,
   "metadata": {
    "collapsed": true
   },
   "outputs": [],
   "source": [
    "import pandas as pd"
   ]
  },
  {
   "cell_type": "code",
   "execution_count": 39,
   "metadata": {
    "collapsed": true
   },
   "outputs": [],
   "source": [
    "pd.set_option('display.width', 5000) \n",
    "pd.set_option('display.max_columns', 60)"
   ]
  },
  {
   "cell_type": "code",
   "execution_count": 40,
   "metadata": {
    "collapsed": true
   },
   "outputs": [],
   "source": [
    "###########\n",
    "# Download data and perform basic cleanup\n",
    "# Try rolling this up \n",
    "# Find data set with lat long for cities\n",
    "###############"
   ]
  },
  {
   "cell_type": "code",
   "execution_count": 41,
   "metadata": {
    "collapsed": true
   },
   "outputs": [],
   "source": [
    "raw_data_path  =\"/Users/elenasmith/Documents/personal/water/data/raw/\"\n",
    "processed_data_path  =\"/Users/elenasmith/Documents/personal/water/data/raw/\"\n",
    "\n",
    "deliv = pd.read_csv(\"{}EAR 2013-2016 DELIVERIES FINAL 06-22-2018.csv\".format(raw_data_path))\n",
    "prod = pd.read_csv(\"{}EAR 2013-2016 PRODUCTION FINAL 06-22-2018.csv\".format(raw_data_path))"
   ]
  },
  {
   "cell_type": "code",
   "execution_count": 42,
   "metadata": {
    "collapsed": true
   },
   "outputs": [],
   "source": [
    "#deliv = pd.read_csv(\"https://data.ca.gov/sites/default/files/EAR%202013-2016%20DELIVERIES%20FINAL%2006-22-2018.csv\")\n",
    "#prod = pd.read_csv(\"https://data.ca.gov/sites/default/files/EAR%202013-2016%20PRODUCTION%20FINAL%2006-22-2018.csv\")\n",
    "# data dictionary: https://data.ca.gov/dataset/drinking-water-%E2%80%93-public-water-system-annually-reported-water-production-and-delivery-4\n",
    "systems = pd.read_csv(\"https://data.ca.gov/sites/default/files/Public%20Potable%20Water%20Systems%20FINAL%2006-22-2018_0.csv\")"
   ]
  },
  {
   "cell_type": "code",
   "execution_count": 43,
   "metadata": {
    "collapsed": true
   },
   "outputs": [],
   "source": [
    "# Remove whitespace in column names\n",
    "deliv.columns = [x.rstrip().lstrip() for x in deliv.columns]\n",
    "prod.columns = [x.rstrip().lstrip() for x in prod.columns]\n",
    "systems.columns = [x.rstrip().lstrip() for x in systems.columns]"
   ]
  },
  {
   "cell_type": "code",
   "execution_count": 44,
   "metadata": {
    "collapsed": true
   },
   "outputs": [],
   "source": [
    "##############\n",
    "# Preview data\n",
    "###############"
   ]
  },
  {
   "cell_type": "code",
   "execution_count": 45,
   "metadata": {},
   "outputs": [
    {
     "name": "stdout",
     "output_type": "stream",
     "text": [
      "(78537, 22)\n",
      "(212824, 21)\n",
      "(7898, 31)\n"
     ]
    }
   ],
   "source": [
    "print(deliv.shape)\n",
    "print(prod.shape)\n",
    "print(systems.shape)"
   ]
  },
  {
   "cell_type": "code",
   "execution_count": 46,
   "metadata": {},
   "outputs": [
    {
     "data": {
      "text/html": [
       "<div>\n",
       "<style>\n",
       "    .dataframe thead tr:only-child th {\n",
       "        text-align: right;\n",
       "    }\n",
       "\n",
       "    .dataframe thead th {\n",
       "        text-align: left;\n",
       "    }\n",
       "\n",
       "    .dataframe tbody tr th {\n",
       "        vertical-align: top;\n",
       "    }\n",
       "</style>\n",
       "<table border=\"1\" class=\"dataframe\">\n",
       "  <thead>\n",
       "    <tr style=\"text-align: right;\">\n",
       "      <th></th>\n",
       "      <th>Water System No</th>\n",
       "      <th>Water System Name</th>\n",
       "      <th>Principal County Served</th>\n",
       "      <th>Federal Water System Type -CODE</th>\n",
       "      <th>Federal Water System Type</th>\n",
       "      <th>State Water System Type -CODE</th>\n",
       "      <th>State Water System Type</th>\n",
       "      <th>Water System Status -CODE</th>\n",
       "      <th>Water System Status</th>\n",
       "      <th>Owner Type -CODE</th>\n",
       "      <th>Owner Type</th>\n",
       "      <th>Primary Water Source Type -CODE</th>\n",
       "      <th>Primary Water Source Type</th>\n",
       "      <th>Residential Population</th>\n",
       "      <th>Non Transient Population</th>\n",
       "      <th>Transient Population</th>\n",
       "      <th>Total Population</th>\n",
       "      <th>Number of Service Connections Agricultural</th>\n",
       "      <th>Number of COMBINED Service Connections (CB)</th>\n",
       "      <th>Number of Commercial (CM) Service Connections</th>\n",
       "      <th>Numer of Institutional Service Conections</th>\n",
       "      <th>Number of Residential Service Connections</th>\n",
       "      <th>Total Number of Service Connections</th>\n",
       "      <th>Fee Code</th>\n",
       "      <th>Fee Code Description</th>\n",
       "      <th>Date of Sanitary Survey visit (SNSV Visit Date)</th>\n",
       "      <th>CITY</th>\n",
       "      <th>Treatment Plant Class-CODE</th>\n",
       "      <th>Treatment Plant Class</th>\n",
       "      <th>Distribution System Class-CODE</th>\n",
       "      <th>Distribution System Class</th>\n",
       "    </tr>\n",
       "  </thead>\n",
       "  <tbody>\n",
       "    <tr>\n",
       "      <th>0</th>\n",
       "      <td>CA1900045</td>\n",
       "      <td>1000 TRAILS / SOLEDAD CANYON PRESERVE</td>\n",
       "      <td>LOS ANGELES</td>\n",
       "      <td>NC</td>\n",
       "      <td>Transient Non-Community</td>\n",
       "      <td>NC</td>\n",
       "      <td>Transient Non-Community</td>\n",
       "      <td>A</td>\n",
       "      <td>ACTIVE</td>\n",
       "      <td>P</td>\n",
       "      <td>Private</td>\n",
       "      <td>GW</td>\n",
       "      <td>Groundwater</td>\n",
       "      <td>NaN</td>\n",
       "      <td>NaN</td>\n",
       "      <td>800.0</td>\n",
       "      <td>800.0</td>\n",
       "      <td>NaN</td>\n",
       "      <td>182.0</td>\n",
       "      <td>NaN</td>\n",
       "      <td>NaN</td>\n",
       "      <td>NaN</td>\n",
       "      <td>182.0</td>\n",
       "      <td>N1</td>\n",
       "      <td>Transient-Noncommunity Water System</td>\n",
       "      <td>11/22/2017</td>\n",
       "      <td>NaN</td>\n",
       "      <td>NaN</td>\n",
       "      <td>NaN</td>\n",
       "      <td>D1</td>\n",
       "      <td>Distribution Operator Level 1</td>\n",
       "    </tr>\n",
       "    <tr>\n",
       "      <th>1</th>\n",
       "      <td>CA2800014</td>\n",
       "      <td>11:11</td>\n",
       "      <td>NAPA</td>\n",
       "      <td>NC</td>\n",
       "      <td>Transient Non-Community</td>\n",
       "      <td>NC</td>\n",
       "      <td>Transient Non-Community</td>\n",
       "      <td>A</td>\n",
       "      <td>ACTIVE</td>\n",
       "      <td>P</td>\n",
       "      <td>Private</td>\n",
       "      <td>GW</td>\n",
       "      <td>Groundwater</td>\n",
       "      <td>NaN</td>\n",
       "      <td>NaN</td>\n",
       "      <td>25.0</td>\n",
       "      <td>25.0</td>\n",
       "      <td>NaN</td>\n",
       "      <td>1.0</td>\n",
       "      <td>NaN</td>\n",
       "      <td>NaN</td>\n",
       "      <td>NaN</td>\n",
       "      <td>1.0</td>\n",
       "      <td>N1</td>\n",
       "      <td>Transient-Noncommunity Water System</td>\n",
       "      <td>6/17/2015</td>\n",
       "      <td>NAPA</td>\n",
       "      <td>NaN</td>\n",
       "      <td>NaN</td>\n",
       "      <td>NR</td>\n",
       "      <td>Not Required</td>\n",
       "    </tr>\n",
       "    <tr>\n",
       "      <th>2</th>\n",
       "      <td>CA4000725</td>\n",
       "      <td>141 SUBURBAN ROAD WATER SUPPLY</td>\n",
       "      <td>SAN LUIS OBISPO</td>\n",
       "      <td>NTNC</td>\n",
       "      <td>Non-Transient Non-Community</td>\n",
       "      <td>NTNC</td>\n",
       "      <td>Non-Transient Non-Community</td>\n",
       "      <td>A</td>\n",
       "      <td>ACTIVE</td>\n",
       "      <td>P</td>\n",
       "      <td>Private</td>\n",
       "      <td>GW</td>\n",
       "      <td>Groundwater</td>\n",
       "      <td>NaN</td>\n",
       "      <td>25.0</td>\n",
       "      <td>NaN</td>\n",
       "      <td>25.0</td>\n",
       "      <td>NaN</td>\n",
       "      <td>1.0</td>\n",
       "      <td>NaN</td>\n",
       "      <td>NaN</td>\n",
       "      <td>NaN</td>\n",
       "      <td>1.0</td>\n",
       "      <td>NaN</td>\n",
       "      <td>NaN</td>\n",
       "      <td>6/23/2014</td>\n",
       "      <td>SAN LUIS OBISPO</td>\n",
       "      <td>NaN</td>\n",
       "      <td>NaN</td>\n",
       "      <td>D1</td>\n",
       "      <td>Distribution Operator Level 1</td>\n",
       "    </tr>\n",
       "  </tbody>\n",
       "</table>\n",
       "</div>"
      ],
      "text/plain": [
       "  Water System No                      Water System Name Principal County Served Federal Water System Type -CODE    Federal Water System Type State Water System Type -CODE      State Water System Type Water System Status -CODE Water System Status Owner Type -CODE Owner Type Primary Water Source Type -CODE Primary Water Source Type  Residential Population  Non Transient Population  Transient Population  Total Population  Number of Service Connections Agricultural  Number of COMBINED Service Connections (CB)  Number of Commercial (CM) Service Connections  Numer of Institutional Service Conections  Number of Residential Service Connections  Total Number of Service Connections Fee Code                 Fee Code Description Date of Sanitary Survey visit (SNSV Visit Date)             CITY Treatment Plant Class-CODE Treatment Plant Class Distribution System Class-CODE      Distribution System Class\n",
       "0       CA1900045  1000 TRAILS / SOLEDAD CANYON PRESERVE             LOS ANGELES                              NC      Transient Non-Community                          NC        Transient Non-Community                         A              ACTIVE                P    Private                             GW                Groundwater                     NaN                       NaN                 800.0             800.0                                         NaN                                        182.0                                            NaN                                        NaN                                        NaN                                182.0    N1     Transient-Noncommunity Water System                                      11/22/2017              NaN                        NaN                   NaN                          D1     Distribution Operator Level 1\n",
       "1       CA2800014                                  11:11                    NAPA                              NC      Transient Non-Community                          NC        Transient Non-Community                         A              ACTIVE                P    Private                             GW                Groundwater                     NaN                       NaN                  25.0              25.0                                         NaN                                          1.0                                            NaN                                        NaN                                        NaN                                  1.0    N1     Transient-Noncommunity Water System                                       6/17/2015             NAPA                        NaN                   NaN                          NR                      Not Required\n",
       "2       CA4000725         141 SUBURBAN ROAD WATER SUPPLY         SAN LUIS OBISPO                            NTNC  Non-Transient Non-Community                          NTNC  Non-Transient Non-Community                         A              ACTIVE                P    Private                             GW                Groundwater                     NaN                      25.0                   NaN              25.0                                         NaN                                          1.0                                            NaN                                        NaN                                        NaN                                  1.0      NaN                                  NaN                                       6/23/2014  SAN LUIS OBISPO                        NaN                   NaN                          D1     Distribution Operator Level 1"
      ]
     },
     "execution_count": 46,
     "metadata": {},
     "output_type": "execute_result"
    }
   ],
   "source": [
    "systems[0:3]"
   ]
  },
  {
   "cell_type": "code",
   "execution_count": 47,
   "metadata": {},
   "outputs": [
    {
     "data": {
      "text/html": [
       "<div>\n",
       "<style>\n",
       "    .dataframe thead tr:only-child th {\n",
       "        text-align: right;\n",
       "    }\n",
       "\n",
       "    .dataframe thead th {\n",
       "        text-align: left;\n",
       "    }\n",
       "\n",
       "    .dataframe tbody tr th {\n",
       "        vertical-align: top;\n",
       "    }\n",
       "</style>\n",
       "<table border=\"1\" class=\"dataframe\">\n",
       "  <thead>\n",
       "    <tr style=\"text-align: right;\">\n",
       "      <th></th>\n",
       "      <th>PWSID</th>\n",
       "      <th>Water.System.Name</th>\n",
       "      <th>Water.System.Classification</th>\n",
       "      <th>Year</th>\n",
       "      <th>Month</th>\n",
       "      <th>Date</th>\n",
       "      <th>Days.In.Month</th>\n",
       "      <th>Delivered.Water.Units AS ORIGINALLY REPORTED</th>\n",
       "      <th>Delivered.Water.Units.Revised BY OFFICE OF INFORMATION MANAGEMENT AND ANALYSIS</th>\n",
       "      <th>UNITS ADJUSTED BY OIMA?</th>\n",
       "      <th>WATER DELIVERIES TO Single.family.Residential</th>\n",
       "      <th>WATER DELIVERIES TO  Multi.family.Residential</th>\n",
       "      <th>WATER DELIVERIES TO  Commercial.Institutional</th>\n",
       "      <th>WATER DELIVERIES TO  Industrial</th>\n",
       "      <th>WATER DELIVERIES TO  Landscape.Irrigation</th>\n",
       "      <th>WATER DELIVERIES TO  Other</th>\n",
       "      <th>WATER DELIVERIES TO  Agricultural</th>\n",
       "      <th>WATER DELIVERIES TO  Other.PWS</th>\n",
       "      <th>WATER DELIVERIES Total.Delivered Residential IN REVISED UNITS (Total Does not include Landscape Irrigation, Agricultural or to other PWS)</th>\n",
       "      <th>Total. RESIDENTIAL Delivered.Gallons (Total Does not include Landscape Irrigation, Agricultural or to other PWS)</th>\n",
       "      <th>Population Of Service Area</th>\n",
       "      <th>CALCULATED GPCD (Total delivery to residential in gallons per capita day)</th>\n",
       "    </tr>\n",
       "  </thead>\n",
       "  <tbody>\n",
       "    <tr>\n",
       "      <th>0</th>\n",
       "      <td>CA0103040</td>\n",
       "      <td>NORRIS CANYON PROPERTY OWNERS ASSN.</td>\n",
       "      <td>Community Water System</td>\n",
       "      <td>2015</td>\n",
       "      <td>January</td>\n",
       "      <td>1/1/2015</td>\n",
       "      <td>31</td>\n",
       "      <td>G</td>\n",
       "      <td>G</td>\n",
       "      <td>NO CHANGES</td>\n",
       "      <td>105,995</td>\n",
       "      <td>NaN</td>\n",
       "      <td>NaN</td>\n",
       "      <td>NaN</td>\n",
       "      <td>NaN</td>\n",
       "      <td>NaN</td>\n",
       "      <td>NaN</td>\n",
       "      <td>NaN</td>\n",
       "      <td>105,995.00</td>\n",
       "      <td>105,995.00</td>\n",
       "      <td>50.0</td>\n",
       "      <td>68.4</td>\n",
       "    </tr>\n",
       "    <tr>\n",
       "      <th>1</th>\n",
       "      <td>CA0103040</td>\n",
       "      <td>NORRIS CANYON PROPERTY OWNERS ASSN.</td>\n",
       "      <td>Community Water System</td>\n",
       "      <td>2015</td>\n",
       "      <td>February</td>\n",
       "      <td>2/1/2015</td>\n",
       "      <td>28</td>\n",
       "      <td>G</td>\n",
       "      <td>G</td>\n",
       "      <td>NO CHANGES</td>\n",
       "      <td>65,156</td>\n",
       "      <td>NaN</td>\n",
       "      <td>NaN</td>\n",
       "      <td>NaN</td>\n",
       "      <td>NaN</td>\n",
       "      <td>NaN</td>\n",
       "      <td>NaN</td>\n",
       "      <td>NaN</td>\n",
       "      <td>65,156.00</td>\n",
       "      <td>65,156.00</td>\n",
       "      <td>50.0</td>\n",
       "      <td>46.5</td>\n",
       "    </tr>\n",
       "    <tr>\n",
       "      <th>2</th>\n",
       "      <td>CA0103040</td>\n",
       "      <td>NORRIS CANYON PROPERTY OWNERS ASSN.</td>\n",
       "      <td>Community Water System</td>\n",
       "      <td>2015</td>\n",
       "      <td>March</td>\n",
       "      <td>3/1/2015</td>\n",
       "      <td>31</td>\n",
       "      <td>G</td>\n",
       "      <td>G</td>\n",
       "      <td>NO CHANGES</td>\n",
       "      <td>99,975</td>\n",
       "      <td>NaN</td>\n",
       "      <td>NaN</td>\n",
       "      <td>NaN</td>\n",
       "      <td>NaN</td>\n",
       "      <td>NaN</td>\n",
       "      <td>NaN</td>\n",
       "      <td>NaN</td>\n",
       "      <td>99,975.00</td>\n",
       "      <td>99,975.00</td>\n",
       "      <td>50.0</td>\n",
       "      <td>64.5</td>\n",
       "    </tr>\n",
       "  </tbody>\n",
       "</table>\n",
       "</div>"
      ],
      "text/plain": [
       "       PWSID                    Water.System.Name Water.System.Classification  Year     Month      Date  Days.In.Month Delivered.Water.Units AS ORIGINALLY REPORTED Delivered.Water.Units.Revised BY OFFICE OF INFORMATION MANAGEMENT AND ANALYSIS UNITS ADJUSTED BY OIMA? WATER DELIVERIES TO Single.family.Residential WATER DELIVERIES TO  Multi.family.Residential WATER DELIVERIES TO  Commercial.Institutional WATER DELIVERIES TO  Industrial WATER DELIVERIES TO  Landscape.Irrigation WATER DELIVERIES TO  Other WATER DELIVERIES TO  Agricultural WATER DELIVERIES TO  Other.PWS WATER DELIVERIES Total.Delivered Residential IN REVISED UNITS (Total Does not include Landscape Irrigation, Agricultural or to other PWS) Total. RESIDENTIAL Delivered.Gallons (Total Does not include Landscape Irrigation, Agricultural or to other PWS)  Population Of Service Area CALCULATED GPCD (Total delivery to residential in gallons per capita day)\n",
       "0  CA0103040  NORRIS CANYON PROPERTY OWNERS ASSN.      Community Water System  2015   January  1/1/2015             31                                            G                                                  G                                          NO CHANGES                                       105,995                                           NaN                                           NaN                             NaN                                       NaN                        NaN                               NaN                            NaN                                         105,995.00                                                                                                                                105,995.00                                                                                      50.0                                              68.4                        \n",
       "1  CA0103040  NORRIS CANYON PROPERTY OWNERS ASSN.      Community Water System  2015  February  2/1/2015             28                                            G                                                  G                                          NO CHANGES                                        65,156                                           NaN                                           NaN                             NaN                                       NaN                        NaN                               NaN                            NaN                                          65,156.00                                                                                                                                 65,156.00                                                                                      50.0                                              46.5                        \n",
       "2  CA0103040  NORRIS CANYON PROPERTY OWNERS ASSN.      Community Water System  2015     March  3/1/2015             31                                            G                                                  G                                          NO CHANGES                                        99,975                                           NaN                                           NaN                             NaN                                       NaN                        NaN                               NaN                            NaN                                          99,975.00                                                                                                                                 99,975.00                                                                                      50.0                                              64.5                        "
      ]
     },
     "execution_count": 47,
     "metadata": {},
     "output_type": "execute_result"
    }
   ],
   "source": [
    "deliv[0:3]"
   ]
  },
  {
   "cell_type": "code",
   "execution_count": 48,
   "metadata": {},
   "outputs": [
    {
     "data": {
      "text/html": [
       "<div>\n",
       "<style>\n",
       "    .dataframe thead tr:only-child th {\n",
       "        text-align: right;\n",
       "    }\n",
       "\n",
       "    .dataframe thead th {\n",
       "        text-align: left;\n",
       "    }\n",
       "\n",
       "    .dataframe tbody tr th {\n",
       "        vertical-align: top;\n",
       "    }\n",
       "</style>\n",
       "<table border=\"1\" class=\"dataframe\">\n",
       "  <thead>\n",
       "    <tr style=\"text-align: right;\">\n",
       "      <th></th>\n",
       "      <th>PWSID</th>\n",
       "      <th>Water.System.Name</th>\n",
       "      <th>Water.System.Classification</th>\n",
       "      <th>Year</th>\n",
       "      <th>Month</th>\n",
       "      <th>Date</th>\n",
       "      <th>Days.In.Month</th>\n",
       "      <th>WATER PRODUCED Water.Units IN UNITS ORIGINALLY REPORTED</th>\n",
       "      <th>WATER PRODUCED Water.Units REVIEWED BY OFFICE OF INFORMATION MANAGEMENT AND ANALYSIS</th>\n",
       "      <th>UNITS ADJUSTED BY OIMA?</th>\n",
       "      <th>Finished.Water.Vol.Type.Revised</th>\n",
       "      <th>WATER PRODUCED FROM GROUNDWATER</th>\n",
       "      <th>WATER PRODUCED FROM SURFACE WATER</th>\n",
       "      <th>FINSIHIED WATER PURCHASED OR RECEIVED FROM ANOTHER PUBLIC WATER SYSTEM</th>\n",
       "      <th>WATER SOLD TO ANOTHER PUBLIC WATER SYSTEM</th>\n",
       "      <th>Non-Potable Produced Water (EXCLUDING RECYCLING)</th>\n",
       "      <th>RECYCLED WATER PRODUCED</th>\n",
       "      <th>TOTAL POTABLE WATER PRODUCED USING REVISED UNITS (Total Does not Include Sold, Non-potable and Recycled amounts)</th>\n",
       "      <th>TOTAL POTABLE WATER IN GALLONS (Total Does not Include Sold, Non-potable and Recycled amounts)</th>\n",
       "      <th>Population Of Service Area</th>\n",
       "      <th>CALCULATED GPCD (Total Potable Produced in gallons per capita day)</th>\n",
       "    </tr>\n",
       "  </thead>\n",
       "  <tbody>\n",
       "    <tr>\n",
       "      <th>0</th>\n",
       "      <td>CA0103040</td>\n",
       "      <td>NORRIS CANYON PROPERTY OWNERS ASSN.</td>\n",
       "      <td>Community Water System</td>\n",
       "      <td>2014</td>\n",
       "      <td>January</td>\n",
       "      <td>1/1/2014</td>\n",
       "      <td>31</td>\n",
       "      <td>G</td>\n",
       "      <td>G</td>\n",
       "      <td>NO CHANGES</td>\n",
       "      <td>M</td>\n",
       "      <td>171,120.00</td>\n",
       "      <td>NaN</td>\n",
       "      <td>NaN</td>\n",
       "      <td>NaN</td>\n",
       "      <td>NaN</td>\n",
       "      <td>NaN</td>\n",
       "      <td>171,120.00</td>\n",
       "      <td>171,120.00</td>\n",
       "      <td>50.0</td>\n",
       "      <td>110.4</td>\n",
       "    </tr>\n",
       "    <tr>\n",
       "      <th>1</th>\n",
       "      <td>CA0103040</td>\n",
       "      <td>NORRIS CANYON PROPERTY OWNERS ASSN.</td>\n",
       "      <td>Community Water System</td>\n",
       "      <td>2014</td>\n",
       "      <td>February</td>\n",
       "      <td>2/1/2014</td>\n",
       "      <td>28</td>\n",
       "      <td>G</td>\n",
       "      <td>G</td>\n",
       "      <td>NO CHANGES</td>\n",
       "      <td>M</td>\n",
       "      <td>154,560.00</td>\n",
       "      <td>NaN</td>\n",
       "      <td>NaN</td>\n",
       "      <td>NaN</td>\n",
       "      <td>NaN</td>\n",
       "      <td>NaN</td>\n",
       "      <td>154,560.00</td>\n",
       "      <td>154,560.00</td>\n",
       "      <td>50.0</td>\n",
       "      <td>110.4</td>\n",
       "    </tr>\n",
       "    <tr>\n",
       "      <th>2</th>\n",
       "      <td>CA0103040</td>\n",
       "      <td>NORRIS CANYON PROPERTY OWNERS ASSN.</td>\n",
       "      <td>Community Water System</td>\n",
       "      <td>2014</td>\n",
       "      <td>March</td>\n",
       "      <td>3/1/2014</td>\n",
       "      <td>31</td>\n",
       "      <td>G</td>\n",
       "      <td>G</td>\n",
       "      <td>NO CHANGES</td>\n",
       "      <td>M</td>\n",
       "      <td>171,120.00</td>\n",
       "      <td>NaN</td>\n",
       "      <td>NaN</td>\n",
       "      <td>NaN</td>\n",
       "      <td>NaN</td>\n",
       "      <td>NaN</td>\n",
       "      <td>171,120.00</td>\n",
       "      <td>171,120.00</td>\n",
       "      <td>50.0</td>\n",
       "      <td>110.4</td>\n",
       "    </tr>\n",
       "  </tbody>\n",
       "</table>\n",
       "</div>"
      ],
      "text/plain": [
       "         PWSID                    Water.System.Name Water.System.Classification  Year     Month      Date  Days.In.Month WATER PRODUCED Water.Units IN UNITS ORIGINALLY REPORTED WATER PRODUCED Water.Units REVIEWED BY OFFICE OF INFORMATION MANAGEMENT AND ANALYSIS UNITS ADJUSTED BY OIMA? Finished.Water.Vol.Type.Revised WATER PRODUCED FROM GROUNDWATER WATER PRODUCED FROM SURFACE WATER FINSIHIED WATER PURCHASED OR RECEIVED FROM ANOTHER PUBLIC WATER SYSTEM WATER SOLD TO ANOTHER PUBLIC WATER SYSTEM Non-Potable Produced Water (EXCLUDING RECYCLING) RECYCLED WATER PRODUCED TOTAL POTABLE WATER PRODUCED USING REVISED UNITS (Total Does not Include Sold, Non-potable and Recycled amounts) TOTAL POTABLE WATER IN GALLONS (Total Does not Include Sold, Non-potable and Recycled amounts)  Population Of Service Area CALCULATED GPCD (Total Potable Produced in gallons per capita day)\n",
       "0   CA0103040   NORRIS CANYON PROPERTY OWNERS ASSN.      Community Water System  2014   January  1/1/2014             31                                                  G                                                       G                                                NO CHANGES                               M                     171,120.00                                NaN                                                NaN                                                           NaN                                              NaN                     NaN                                        171,120.00                                                                                                       171,120.00                                                                     50.0                                             110.4                 \n",
       "1   CA0103040   NORRIS CANYON PROPERTY OWNERS ASSN.      Community Water System  2014  February  2/1/2014             28                                                  G                                                       G                                                NO CHANGES                               M                     154,560.00                                NaN                                                NaN                                                           NaN                                              NaN                     NaN                                        154,560.00                                                                                                       154,560.00                                                                     50.0                                             110.4                 \n",
       "2   CA0103040   NORRIS CANYON PROPERTY OWNERS ASSN.      Community Water System  2014     March  3/1/2014             31                                                  G                                                       G                                                NO CHANGES                               M                     171,120.00                                NaN                                                NaN                                                           NaN                                              NaN                     NaN                                        171,120.00                                                                                                       171,120.00                                                                     50.0                                             110.4                 "
      ]
     },
     "execution_count": 48,
     "metadata": {},
     "output_type": "execute_result"
    }
   ],
   "source": [
    "prod[0:3]"
   ]
  },
  {
   "cell_type": "code",
   "execution_count": 49,
   "metadata": {},
   "outputs": [
    {
     "name": "stdout",
     "output_type": "stream",
     "text": [
      "Prod columns: ['PWSID' 'Water.System.Name' 'Water.System.Classification' 'Year' 'Month'\n",
      " 'Date' 'Days.In.Month'\n",
      " 'WATER PRODUCED Water.Units IN UNITS ORIGINALLY REPORTED'\n",
      " 'WATER PRODUCED Water.Units REVIEWED BY OFFICE OF INFORMATION MANAGEMENT AND ANALYSIS'\n",
      " 'UNITS ADJUSTED BY OIMA?' 'Finished.Water.Vol.Type.Revised'\n",
      " 'WATER PRODUCED FROM GROUNDWATER' 'WATER PRODUCED FROM SURFACE WATER'\n",
      " 'FINSIHIED WATER PURCHASED OR RECEIVED FROM ANOTHER PUBLIC WATER SYSTEM'\n",
      " 'WATER SOLD TO ANOTHER PUBLIC WATER SYSTEM'\n",
      " 'Non-Potable Produced Water (EXCLUDING RECYCLING)'\n",
      " 'RECYCLED WATER PRODUCED'\n",
      " 'TOTAL POTABLE WATER PRODUCED USING REVISED UNITS (Total Does not Include Sold, Non-potable and Recycled amounts)'\n",
      " 'TOTAL POTABLE WATER IN GALLONS (Total Does not Include Sold, Non-potable and Recycled amounts)'\n",
      " 'Population Of Service Area'\n",
      " 'CALCULATED GPCD (Total Potable Produced in gallons per capita day)']\n",
      "****\n",
      "Deliv columns: ['PWSID' 'Water.System.Name' 'Water.System.Classification' 'Year' 'Month'\n",
      " 'Date' 'Days.In.Month' 'Delivered.Water.Units AS ORIGINALLY REPORTED'\n",
      " 'Delivered.Water.Units.Revised BY OFFICE OF INFORMATION MANAGEMENT AND ANALYSIS'\n",
      " 'UNITS ADJUSTED BY OIMA?' 'WATER DELIVERIES TO Single.family.Residential'\n",
      " 'WATER DELIVERIES TO  Multi.family.Residential'\n",
      " 'WATER DELIVERIES TO  Commercial.Institutional'\n",
      " 'WATER DELIVERIES TO  Industrial'\n",
      " 'WATER DELIVERIES TO  Landscape.Irrigation' 'WATER DELIVERIES TO  Other'\n",
      " 'WATER DELIVERIES TO  Agricultural' 'WATER DELIVERIES TO  Other.PWS'\n",
      " 'WATER DELIVERIES Total.Delivered Residential IN REVISED UNITS (Total Does not include Landscape Irrigation, Agricultural or to other PWS)'\n",
      " 'Total. RESIDENTIAL Delivered.Gallons (Total Does not include Landscape Irrigation, Agricultural or to other PWS)'\n",
      " 'Population Of Service Area'\n",
      " 'CALCULATED GPCD (Total delivery to residential in gallons per capita day)']\n",
      "*****\n",
      "System columns: ['Water System No' 'Water System Name' 'Principal County Served'\n",
      " 'Federal Water System Type -CODE' 'Federal Water System Type'\n",
      " 'State Water System Type -CODE' 'State Water System Type'\n",
      " 'Water System Status -CODE' 'Water System Status' 'Owner Type -CODE'\n",
      " 'Owner Type' 'Primary Water Source Type -CODE' 'Primary Water Source Type'\n",
      " 'Residential Population' 'Non Transient Population' 'Transient Population'\n",
      " 'Total Population' 'Number of Service Connections Agricultural'\n",
      " 'Number of COMBINED Service Connections (CB)'\n",
      " 'Number of Commercial (CM) Service Connections'\n",
      " 'Numer of Institutional Service Conections'\n",
      " 'Number of Residential Service Connections'\n",
      " 'Total Number of Service Connections' 'Fee Code' 'Fee Code Description'\n",
      " 'Date of Sanitary Survey visit (SNSV Visit Date)' 'CITY'\n",
      " 'Treatment Plant Class-CODE' 'Treatment Plant Class'\n",
      " 'Distribution System Class-CODE' 'Distribution System Class']\n"
     ]
    }
   ],
   "source": [
    "print(\"Prod columns: {}\".format(prod.columns.values))\n",
    "print(\"****\")\n",
    "print(\"Deliv columns: {}\".format(deliv.columns.values))\n",
    "print(\"*****\")\n",
    "print(\"System columns: {}\".format(systems.columns.values))"
   ]
  },
  {
   "cell_type": "code",
   "execution_count": 50,
   "metadata": {
    "collapsed": true
   },
   "outputs": [],
   "source": [
    "##############\n",
    "# Perform cleanup of water system ID columns\n",
    "###############"
   ]
  },
  {
   "cell_type": "code",
   "execution_count": 51,
   "metadata": {},
   "outputs": [
    {
     "name": "stdout",
     "output_type": "stream",
     "text": [
      "Original values in prod PWSID: [' CA0103040 ' ' CA0103040 ' ' CA0103040 ' ' CA0103040 ' ' CA0103040 ']\n",
      "Original values in prod PWSID: ['CA0103040' 'CA0103040' 'CA0103040' 'CA0103040' 'CA0103040']\n",
      "Original values in systems Water System No: ['CA1900045' 'CA2800014' 'CA4000725' 'CA1700725' 'CA0901281']\n"
     ]
    }
   ],
   "source": [
    "# This column has whitespace that needs to be removed\n",
    "print(\"Original values in prod PWSID: {}\".format(prod['PWSID'].values[0:5]))\n",
    "prod['PWSID'] = prod['PWSID'].apply(lambda x: x.rstrip().lstrip())\n",
    "\n",
    "print(\"Original values in prod PWSID: {}\".format(deliv['PWSID'].values[0:5]))\n",
    "deliv['PWSID'] = deliv['PWSID'].apply(lambda x: x.rstrip().lstrip())\n",
    "\n",
    "print(\"Original values in systems Water System No: {}\".format(systems['Water System No'].values[0:5]))\n",
    "systems['Water System No'] = systems['Water System No'].apply(lambda x: str(x).rstrip().lstrip())"
   ]
  },
  {
   "cell_type": "code",
   "execution_count": 52,
   "metadata": {
    "collapsed": true
   },
   "outputs": [],
   "source": [
    "###########\n",
    "# Search for non-numerical units in numeric columns\n",
    "###############"
   ]
  },
  {
   "cell_type": "code",
   "execution_count": 53,
   "metadata": {},
   "outputs": [
    {
     "name": "stdout",
     "output_type": "stream",
     "text": [
      "Names of numeric columns in prod: ['WATER PRODUCED FROM GROUNDWATER' 'WATER PRODUCED FROM SURFACE WATER'\n",
      " 'FINSIHIED WATER PURCHASED OR RECEIVED FROM ANOTHER PUBLIC WATER SYSTEM'\n",
      " 'WATER SOLD TO ANOTHER PUBLIC WATER SYSTEM'\n",
      " 'Non-Potable Produced Water (EXCLUDING RECYCLING)'\n",
      " 'RECYCLED WATER PRODUCED'\n",
      " 'TOTAL POTABLE WATER PRODUCED USING REVISED UNITS (Total Does not Include Sold, Non-potable and Recycled amounts)'\n",
      " 'TOTAL POTABLE WATER IN GALLONS (Total Does not Include Sold, Non-potable and Recycled amounts)'\n",
      " 'Population Of Service Area'\n",
      " 'CALCULATED GPCD (Total Potable Produced in gallons per capita day)']\n",
      "***\n",
      "Names of numeric columns in deliv: ['WATER DELIVERIES TO  Multi.family.Residential'\n",
      " 'WATER DELIVERIES TO  Commercial.Institutional'\n",
      " 'WATER DELIVERIES TO  Industrial'\n",
      " 'WATER DELIVERIES TO  Landscape.Irrigation' 'WATER DELIVERIES TO  Other'\n",
      " 'WATER DELIVERIES TO  Agricultural' 'WATER DELIVERIES TO  Other.PWS'\n",
      " 'WATER DELIVERIES Total.Delivered Residential IN REVISED UNITS (Total Does not include Landscape Irrigation, Agricultural or to other PWS)'\n",
      " 'Total. RESIDENTIAL Delivered.Gallons (Total Does not include Landscape Irrigation, Agricultural or to other PWS)'\n",
      " 'Population Of Service Area'\n",
      " 'CALCULATED GPCD (Total delivery to residential in gallons per capita day)']\n"
     ]
    }
   ],
   "source": [
    "numeric_prod_col = prod.columns.values[11:]\n",
    "numeric_deliv_col = deliv.columns.values[11:]\n",
    "\n",
    "print(\"Names of numeric columns in prod: {}\".format(numeric_prod_col))\n",
    "print(\"***\")\n",
    "print(\"Names of numeric columns in deliv: {}\".format(numeric_deliv_col))"
   ]
  },
  {
   "cell_type": "code",
   "execution_count": 54,
   "metadata": {},
   "outputs": [
    {
     "name": "stdout",
     "output_type": "stream",
     "text": [
      "Sample numbers in prod numeric columns: [' 171,120.00 ' ' 154,560.00 ' ' 171,120.00 ' ..., ' 28.00 ' ' 16.80 '\n",
      " ' 16.30 ']\n",
      "Sample numbers in deliv numeric columns: ['105,995.00' '65,156.00' '99,975.00' ..., '6.00' '3.30' '2.80']\n"
     ]
    }
   ],
   "source": [
    "# how are numeric values stored?\n",
    "# strings with extra whitespace; commas; decimal points\n",
    "print(\"Sample numbers in prod numeric columns: {}\".format(prod['WATER PRODUCED FROM GROUNDWATER'].values))\n",
    "\n",
    "print(\"Sample numbers in deliv numeric columns: {}\".format(deliv['WATER DELIVERIES Total.Delivered Residential IN REVISED UNITS (Total Does not include Landscape Irrigation, Agricultural or to other PWS)'].values))"
   ]
  },
  {
   "cell_type": "code",
   "execution_count": 55,
   "metadata": {},
   "outputs": [
    {
     "name": "stdout",
     "output_type": "stream",
     "text": [
      "WATER PRODUCED FROM GROUNDWATER\n",
      "WATER PRODUCED FROM SURFACE WATER\n",
      "FINSIHIED WATER PURCHASED OR RECEIVED FROM ANOTHER PUBLIC WATER SYSTEM\n",
      "WATER SOLD TO ANOTHER PUBLIC WATER SYSTEM\n",
      "Non-Potable Produced Water (EXCLUDING RECYCLING)\n",
      "RECYCLED WATER PRODUCED\n",
      "TOTAL POTABLE WATER PRODUCED USING REVISED UNITS (Total Does not Include Sold, Non-potable and Recycled amounts)\n",
      "TOTAL POTABLE WATER IN GALLONS (Total Does not Include Sold, Non-potable and Recycled amounts)\n",
      "Population Of Service Area\n",
      "CALCULATED GPCD (Total Potable Produced in gallons per capita day)\n",
      "WATER DELIVERIES TO  Multi.family.Residential\n",
      "WATER DELIVERIES TO  Commercial.Institutional\n",
      "WATER DELIVERIES TO  Industrial\n",
      "WATER DELIVERIES TO  Landscape.Irrigation\n",
      "WATER DELIVERIES TO  Other\n",
      "WATER DELIVERIES TO  Agricultural\n",
      "WATER DELIVERIES TO  Other.PWS\n",
      "WATER DELIVERIES Total.Delivered Residential IN REVISED UNITS (Total Does not include Landscape Irrigation, Agricultural or to other PWS)\n",
      "Total. RESIDENTIAL Delivered.Gallons (Total Does not include Landscape Irrigation, Agricultural or to other PWS)\n",
      "Population Of Service Area\n",
      "CALCULATED GPCD (Total delivery to residential in gallons per capita day)\n"
     ]
    }
   ],
   "source": [
    "# convert numeric columns from string to numeric\n",
    "\n",
    "for c in numeric_prod_col:\n",
    "    print(c)\n",
    "    prod[c+\"_numeric\"] = prod[c].apply(lambda x: pd.to_numeric(str(x).replace(\",\",\"\"),errors='coerce'))\n",
    "\n",
    "for c in numeric_deliv_col:\n",
    "    print(c)\n",
    "    deliv[c+\"_numeric\"] = deliv[c].apply(lambda x: pd.to_numeric(str(x).replace(\",\",\"\"),errors='coerce'))\n"
   ]
  },
  {
   "cell_type": "code",
   "execution_count": 56,
   "metadata": {},
   "outputs": [
    {
     "data": {
      "text/html": [
       "<div>\n",
       "<style>\n",
       "    .dataframe thead tr:only-child th {\n",
       "        text-align: right;\n",
       "    }\n",
       "\n",
       "    .dataframe thead th {\n",
       "        text-align: left;\n",
       "    }\n",
       "\n",
       "    .dataframe tbody tr th {\n",
       "        vertical-align: top;\n",
       "    }\n",
       "</style>\n",
       "<table border=\"1\" class=\"dataframe\">\n",
       "  <thead>\n",
       "    <tr style=\"text-align: right;\">\n",
       "      <th></th>\n",
       "      <th>WATER DELIVERIES TO  Agricultural</th>\n",
       "      <th>WATER DELIVERIES TO  Agricultural_numeric</th>\n",
       "    </tr>\n",
       "  </thead>\n",
       "  <tbody>\n",
       "    <tr>\n",
       "      <th>381</th>\n",
       "      <td>30,000,000</td>\n",
       "      <td>30000000.0</td>\n",
       "    </tr>\n",
       "    <tr>\n",
       "      <th>382</th>\n",
       "      <td>87,000,000</td>\n",
       "      <td>87000000.0</td>\n",
       "    </tr>\n",
       "    <tr>\n",
       "      <th>383</th>\n",
       "      <td>425,000,000</td>\n",
       "      <td>425000000.0</td>\n",
       "    </tr>\n",
       "    <tr>\n",
       "      <th>384</th>\n",
       "      <td>737,000,000</td>\n",
       "      <td>737000000.0</td>\n",
       "    </tr>\n",
       "    <tr>\n",
       "      <th>385</th>\n",
       "      <td>897,000,000</td>\n",
       "      <td>897000000.0</td>\n",
       "    </tr>\n",
       "    <tr>\n",
       "      <th>386</th>\n",
       "      <td>809,000,000</td>\n",
       "      <td>809000000.0</td>\n",
       "    </tr>\n",
       "    <tr>\n",
       "      <th>387</th>\n",
       "      <td>972,000,000</td>\n",
       "      <td>972000000.0</td>\n",
       "    </tr>\n",
       "    <tr>\n",
       "      <th>388</th>\n",
       "      <td>905,000,000</td>\n",
       "      <td>905000000.0</td>\n",
       "    </tr>\n",
       "    <tr>\n",
       "      <th>389</th>\n",
       "      <td>555,000,000</td>\n",
       "      <td>555000000.0</td>\n",
       "    </tr>\n",
       "    <tr>\n",
       "      <th>390</th>\n",
       "      <td>386,000,000</td>\n",
       "      <td>386000000.0</td>\n",
       "    </tr>\n",
       "  </tbody>\n",
       "</table>\n",
       "</div>"
      ],
      "text/plain": [
       "    WATER DELIVERIES TO  Agricultural  WATER DELIVERIES TO  Agricultural_numeric\n",
       "381                        30,000,000                                 30000000.0\n",
       "382                        87,000,000                                 87000000.0\n",
       "383                       425,000,000                                425000000.0\n",
       "384                       737,000,000                                737000000.0\n",
       "385                       897,000,000                                897000000.0\n",
       "386                       809,000,000                                809000000.0\n",
       "387                       972,000,000                                972000000.0\n",
       "388                       905,000,000                                905000000.0\n",
       "389                       555,000,000                                555000000.0\n",
       "390                       386,000,000                                386000000.0"
      ]
     },
     "execution_count": 56,
     "metadata": {},
     "output_type": "execute_result"
    }
   ],
   "source": [
    "# sanity check\n",
    "deliv[pd.isnull(deliv[numeric_deliv_col[6]])==False][[numeric_deliv_col[5],]+ [numeric_deliv_col[5]+\"_numeric\",]][0:10]"
   ]
  },
  {
   "cell_type": "code",
   "execution_count": 57,
   "metadata": {},
   "outputs": [
    {
     "data": {
      "text/html": [
       "<div>\n",
       "<style>\n",
       "    .dataframe thead tr:only-child th {\n",
       "        text-align: right;\n",
       "    }\n",
       "\n",
       "    .dataframe thead th {\n",
       "        text-align: left;\n",
       "    }\n",
       "\n",
       "    .dataframe tbody tr th {\n",
       "        vertical-align: top;\n",
       "    }\n",
       "</style>\n",
       "<table border=\"1\" class=\"dataframe\">\n",
       "  <thead>\n",
       "    <tr style=\"text-align: right;\">\n",
       "      <th></th>\n",
       "      <th>TOTAL POTABLE WATER PRODUCED USING REVISED UNITS (Total Does not Include Sold, Non-potable and Recycled amounts)</th>\n",
       "      <th>TOTAL POTABLE WATER PRODUCED USING REVISED UNITS (Total Does not Include Sold, Non-potable and Recycled amounts)_numeric</th>\n",
       "    </tr>\n",
       "  </thead>\n",
       "  <tbody>\n",
       "    <tr>\n",
       "      <th>0</th>\n",
       "      <td>171,120.00</td>\n",
       "      <td>171120.0</td>\n",
       "    </tr>\n",
       "    <tr>\n",
       "      <th>1</th>\n",
       "      <td>154,560.00</td>\n",
       "      <td>154560.0</td>\n",
       "    </tr>\n",
       "    <tr>\n",
       "      <th>2</th>\n",
       "      <td>171,120.00</td>\n",
       "      <td>171120.0</td>\n",
       "    </tr>\n",
       "    <tr>\n",
       "      <th>3</th>\n",
       "      <td>165,600.00</td>\n",
       "      <td>165600.0</td>\n",
       "    </tr>\n",
       "    <tr>\n",
       "      <th>4</th>\n",
       "      <td>171,120.00</td>\n",
       "      <td>171120.0</td>\n",
       "    </tr>\n",
       "    <tr>\n",
       "      <th>5</th>\n",
       "      <td>229,116.00</td>\n",
       "      <td>229116.0</td>\n",
       "    </tr>\n",
       "    <tr>\n",
       "      <th>6</th>\n",
       "      <td>268,306.00</td>\n",
       "      <td>268306.0</td>\n",
       "    </tr>\n",
       "    <tr>\n",
       "      <th>7</th>\n",
       "      <td>254,778.00</td>\n",
       "      <td>254778.0</td>\n",
       "    </tr>\n",
       "    <tr>\n",
       "      <th>8</th>\n",
       "      <td>166,368.00</td>\n",
       "      <td>166368.0</td>\n",
       "    </tr>\n",
       "    <tr>\n",
       "      <th>9</th>\n",
       "      <td>185,033.00</td>\n",
       "      <td>185033.0</td>\n",
       "    </tr>\n",
       "  </tbody>\n",
       "</table>\n",
       "</div>"
      ],
      "text/plain": [
       "  TOTAL POTABLE WATER PRODUCED USING REVISED UNITS (Total Does not Include Sold, Non-potable and Recycled amounts)  TOTAL POTABLE WATER PRODUCED USING REVISED UNITS (Total Does not Include Sold, Non-potable and Recycled amounts)_numeric\n",
       "0                                        171,120.00                                                                                                          171120.0                                                                       \n",
       "1                                        154,560.00                                                                                                          154560.0                                                                       \n",
       "2                                        171,120.00                                                                                                          171120.0                                                                       \n",
       "3                                        165,600.00                                                                                                          165600.0                                                                       \n",
       "4                                        171,120.00                                                                                                          171120.0                                                                       \n",
       "5                                        229,116.00                                                                                                          229116.0                                                                       \n",
       "6                                        268,306.00                                                                                                          268306.0                                                                       \n",
       "7                                        254,778.00                                                                                                          254778.0                                                                       \n",
       "8                                        166,368.00                                                                                                          166368.0                                                                       \n",
       "9                                        185,033.00                                                                                                          185033.0                                                                       "
      ]
     },
     "execution_count": 57,
     "metadata": {},
     "output_type": "execute_result"
    }
   ],
   "source": [
    "# sanity check\n",
    "prod[pd.isnull(prod[numeric_prod_col[6]])==False][[numeric_prod_col[6],]+ [numeric_prod_col[6]+\"_numeric\",]][0:10]"
   ]
  },
  {
   "cell_type": "code",
   "execution_count": 58,
   "metadata": {
    "collapsed": true
   },
   "outputs": [],
   "source": [
    "############\n",
    "# Prepare to convert units\n",
    "#############"
   ]
  },
  {
   "cell_type": "code",
   "execution_count": 59,
   "metadata": {},
   "outputs": [
    {
     "name": "stdout",
     "output_type": "stream",
     "text": [
      "['WATER PRODUCED FROM GROUNDWATER_numeric', 'WATER PRODUCED FROM SURFACE WATER_numeric', 'FINSIHIED WATER PURCHASED OR RECEIVED FROM ANOTHER PUBLIC WATER SYSTEM_numeric', 'WATER SOLD TO ANOTHER PUBLIC WATER SYSTEM_numeric', 'Non-Potable Produced Water (EXCLUDING RECYCLING)_numeric', 'RECYCLED WATER PRODUCED_numeric', 'TOTAL POTABLE WATER PRODUCED USING REVISED UNITS (Total Does not Include Sold, Non-potable and Recycled amounts)_numeric', 'TOTAL POTABLE WATER IN GALLONS (Total Does not Include Sold, Non-potable and Recycled amounts)_numeric', 'CALCULATED GPCD (Total Potable Produced in gallons per capita day)_numeric']\n",
      "***\n",
      "['WATER DELIVERIES TO  Multi.family.Residential_numeric', 'WATER DELIVERIES TO  Commercial.Institutional_numeric', 'WATER DELIVERIES TO  Industrial_numeric', 'WATER DELIVERIES TO  Landscape.Irrigation_numeric', 'WATER DELIVERIES TO  Other_numeric', 'WATER DELIVERIES TO  Agricultural_numeric', 'WATER DELIVERIES TO  Other.PWS_numeric', 'WATER DELIVERIES Total.Delivered Residential IN REVISED UNITS (Total Does not include Landscape Irrigation, Agricultural or to other PWS)_numeric', 'Total. RESIDENTIAL Delivered.Gallons (Total Does not include Landscape Irrigation, Agricultural or to other PWS)_numeric', 'CALCULATED GPCD (Total delivery to residential in gallons per capita day)_numeric']\n"
     ]
    }
   ],
   "source": [
    "# Identify columns with water-related numbers (not population counts)\n",
    "prod_water_numeric_col = [x+\"_numeric\" for x in numeric_prod_col if \"Population\" not in x]\n",
    "print(prod_water_numeric_col)\n",
    "print(\"***\")\n",
    "deliv_water_numeric_col = [x+\"_numeric\" for x in numeric_deliv_col if \"Population\" not in x]\n",
    "print(deliv_water_numeric_col)"
   ]
  },
  {
   "cell_type": "code",
   "execution_count": 60,
   "metadata": {},
   "outputs": [
    {
     "name": "stdout",
     "output_type": "stream",
     "text": [
      "['PWSID' 'Water.System.Name' 'Water.System.Classification' 'Year' 'Month'\n",
      " 'Date' 'Days.In.Month'\n",
      " 'WATER PRODUCED Water.Units IN UNITS ORIGINALLY REPORTED'\n",
      " 'WATER PRODUCED Water.Units REVIEWED BY OFFICE OF INFORMATION MANAGEMENT AND ANALYSIS'\n",
      " 'UNITS ADJUSTED BY OIMA?']\n",
      "['PWSID' 'Water.System.Name' 'Water.System.Classification' 'Year' 'Month'\n",
      " 'Date' 'Days.In.Month' 'Delivered.Water.Units AS ORIGINALLY REPORTED'\n",
      " 'Delivered.Water.Units.Revised BY OFFICE OF INFORMATION MANAGEMENT AND ANALYSIS'\n",
      " 'UNITS ADJUSTED BY OIMA?']\n"
     ]
    }
   ],
   "source": [
    "prod_meta_col = prod.columns.values[0:10]\n",
    "print(prod_meta_col)\n",
    "\n",
    "deliv_meta_col = deliv.columns.values[0:10]\n",
    "print(deliv_meta_col)"
   ]
  },
  {
   "cell_type": "code",
   "execution_count": 61,
   "metadata": {
    "collapsed": true
   },
   "outputs": [],
   "source": [
    "# Melt so we have one row per different water numeric column\n",
    "prod_melt = pd.melt(prod[list(prod_meta_col)+list(prod_water_numeric_col)], id_vars=list(prod_meta_col), value_vars=list(prod_water_numeric_col))\n",
    "\n",
    "deliv_melt = pd.melt(deliv[list(deliv_meta_col)+list(deliv_water_numeric_col)], id_vars=list(deliv_meta_col), value_vars=list(deliv_water_numeric_col))"
   ]
  },
  {
   "cell_type": "code",
   "execution_count": 62,
   "metadata": {},
   "outputs": [
    {
     "data": {
      "text/html": [
       "<div>\n",
       "<style>\n",
       "    .dataframe thead tr:only-child th {\n",
       "        text-align: right;\n",
       "    }\n",
       "\n",
       "    .dataframe thead th {\n",
       "        text-align: left;\n",
       "    }\n",
       "\n",
       "    .dataframe tbody tr th {\n",
       "        vertical-align: top;\n",
       "    }\n",
       "</style>\n",
       "<table border=\"1\" class=\"dataframe\">\n",
       "  <thead>\n",
       "    <tr style=\"text-align: right;\">\n",
       "      <th></th>\n",
       "      <th>PWSID</th>\n",
       "      <th>Water.System.Name</th>\n",
       "      <th>Water.System.Classification</th>\n",
       "      <th>Year</th>\n",
       "      <th>Month</th>\n",
       "      <th>Date</th>\n",
       "      <th>Days.In.Month</th>\n",
       "      <th>Delivered.Water.Units AS ORIGINALLY REPORTED</th>\n",
       "      <th>Delivered.Water.Units.Revised BY OFFICE OF INFORMATION MANAGEMENT AND ANALYSIS</th>\n",
       "      <th>UNITS ADJUSTED BY OIMA?</th>\n",
       "      <th>variable</th>\n",
       "      <th>value</th>\n",
       "    </tr>\n",
       "  </thead>\n",
       "  <tbody>\n",
       "    <tr>\n",
       "      <th>0</th>\n",
       "      <td>CA0103040</td>\n",
       "      <td>NORRIS CANYON PROPERTY OWNERS ASSN.</td>\n",
       "      <td>Community Water System</td>\n",
       "      <td>2015</td>\n",
       "      <td>January</td>\n",
       "      <td>1/1/2015</td>\n",
       "      <td>31</td>\n",
       "      <td>G</td>\n",
       "      <td>G</td>\n",
       "      <td>NO CHANGES</td>\n",
       "      <td>WATER DELIVERIES TO  Multi.family.Residential_...</td>\n",
       "      <td>NaN</td>\n",
       "    </tr>\n",
       "    <tr>\n",
       "      <th>1</th>\n",
       "      <td>CA0103040</td>\n",
       "      <td>NORRIS CANYON PROPERTY OWNERS ASSN.</td>\n",
       "      <td>Community Water System</td>\n",
       "      <td>2015</td>\n",
       "      <td>February</td>\n",
       "      <td>2/1/2015</td>\n",
       "      <td>28</td>\n",
       "      <td>G</td>\n",
       "      <td>G</td>\n",
       "      <td>NO CHANGES</td>\n",
       "      <td>WATER DELIVERIES TO  Multi.family.Residential_...</td>\n",
       "      <td>NaN</td>\n",
       "    </tr>\n",
       "    <tr>\n",
       "      <th>2</th>\n",
       "      <td>CA0103040</td>\n",
       "      <td>NORRIS CANYON PROPERTY OWNERS ASSN.</td>\n",
       "      <td>Community Water System</td>\n",
       "      <td>2015</td>\n",
       "      <td>March</td>\n",
       "      <td>3/1/2015</td>\n",
       "      <td>31</td>\n",
       "      <td>G</td>\n",
       "      <td>G</td>\n",
       "      <td>NO CHANGES</td>\n",
       "      <td>WATER DELIVERIES TO  Multi.family.Residential_...</td>\n",
       "      <td>NaN</td>\n",
       "    </tr>\n",
       "  </tbody>\n",
       "</table>\n",
       "</div>"
      ],
      "text/plain": [
       "       PWSID                    Water.System.Name Water.System.Classification  Year     Month      Date  Days.In.Month Delivered.Water.Units AS ORIGINALLY REPORTED Delivered.Water.Units.Revised BY OFFICE OF INFORMATION MANAGEMENT AND ANALYSIS UNITS ADJUSTED BY OIMA?                                           variable  value\n",
       "0  CA0103040  NORRIS CANYON PROPERTY OWNERS ASSN.      Community Water System  2015   January  1/1/2015             31                                            G                                                  G                                          NO CHANGES  WATER DELIVERIES TO  Multi.family.Residential_...    NaN\n",
       "1  CA0103040  NORRIS CANYON PROPERTY OWNERS ASSN.      Community Water System  2015  February  2/1/2015             28                                            G                                                  G                                          NO CHANGES  WATER DELIVERIES TO  Multi.family.Residential_...    NaN\n",
       "2  CA0103040  NORRIS CANYON PROPERTY OWNERS ASSN.      Community Water System  2015     March  3/1/2015             31                                            G                                                  G                                          NO CHANGES  WATER DELIVERIES TO  Multi.family.Residential_...    NaN"
      ]
     },
     "execution_count": 62,
     "metadata": {},
     "output_type": "execute_result"
    }
   ],
   "source": [
    "deliv_melt[0:3]"
   ]
  },
  {
   "cell_type": "code",
   "execution_count": 63,
   "metadata": {},
   "outputs": [
    {
     "data": {
      "text/html": [
       "<div>\n",
       "<style>\n",
       "    .dataframe thead tr:only-child th {\n",
       "        text-align: right;\n",
       "    }\n",
       "\n",
       "    .dataframe thead th {\n",
       "        text-align: left;\n",
       "    }\n",
       "\n",
       "    .dataframe tbody tr th {\n",
       "        vertical-align: top;\n",
       "    }\n",
       "</style>\n",
       "<table border=\"1\" class=\"dataframe\">\n",
       "  <thead>\n",
       "    <tr style=\"text-align: right;\">\n",
       "      <th></th>\n",
       "      <th>PWSID</th>\n",
       "      <th>Water.System.Name</th>\n",
       "      <th>Water.System.Classification</th>\n",
       "      <th>Year</th>\n",
       "      <th>Month</th>\n",
       "      <th>Date</th>\n",
       "      <th>Days.In.Month</th>\n",
       "      <th>WATER PRODUCED Water.Units IN UNITS ORIGINALLY REPORTED</th>\n",
       "      <th>WATER PRODUCED Water.Units REVIEWED BY OFFICE OF INFORMATION MANAGEMENT AND ANALYSIS</th>\n",
       "      <th>UNITS ADJUSTED BY OIMA?</th>\n",
       "      <th>variable</th>\n",
       "      <th>value</th>\n",
       "    </tr>\n",
       "  </thead>\n",
       "  <tbody>\n",
       "    <tr>\n",
       "      <th>0</th>\n",
       "      <td>CA0103040</td>\n",
       "      <td>NORRIS CANYON PROPERTY OWNERS ASSN.</td>\n",
       "      <td>Community Water System</td>\n",
       "      <td>2014</td>\n",
       "      <td>January</td>\n",
       "      <td>1/1/2014</td>\n",
       "      <td>31</td>\n",
       "      <td>G</td>\n",
       "      <td>G</td>\n",
       "      <td>NO CHANGES</td>\n",
       "      <td>WATER PRODUCED FROM GROUNDWATER_numeric</td>\n",
       "      <td>171120.0</td>\n",
       "    </tr>\n",
       "    <tr>\n",
       "      <th>1</th>\n",
       "      <td>CA0103040</td>\n",
       "      <td>NORRIS CANYON PROPERTY OWNERS ASSN.</td>\n",
       "      <td>Community Water System</td>\n",
       "      <td>2014</td>\n",
       "      <td>February</td>\n",
       "      <td>2/1/2014</td>\n",
       "      <td>28</td>\n",
       "      <td>G</td>\n",
       "      <td>G</td>\n",
       "      <td>NO CHANGES</td>\n",
       "      <td>WATER PRODUCED FROM GROUNDWATER_numeric</td>\n",
       "      <td>154560.0</td>\n",
       "    </tr>\n",
       "    <tr>\n",
       "      <th>2</th>\n",
       "      <td>CA0103040</td>\n",
       "      <td>NORRIS CANYON PROPERTY OWNERS ASSN.</td>\n",
       "      <td>Community Water System</td>\n",
       "      <td>2014</td>\n",
       "      <td>March</td>\n",
       "      <td>3/1/2014</td>\n",
       "      <td>31</td>\n",
       "      <td>G</td>\n",
       "      <td>G</td>\n",
       "      <td>NO CHANGES</td>\n",
       "      <td>WATER PRODUCED FROM GROUNDWATER_numeric</td>\n",
       "      <td>171120.0</td>\n",
       "    </tr>\n",
       "  </tbody>\n",
       "</table>\n",
       "</div>"
      ],
      "text/plain": [
       "       PWSID                    Water.System.Name Water.System.Classification  Year     Month      Date  Days.In.Month WATER PRODUCED Water.Units IN UNITS ORIGINALLY REPORTED WATER PRODUCED Water.Units REVIEWED BY OFFICE OF INFORMATION MANAGEMENT AND ANALYSIS UNITS ADJUSTED BY OIMA?                                 variable     value\n",
       "0  CA0103040  NORRIS CANYON PROPERTY OWNERS ASSN.      Community Water System  2014   January  1/1/2014             31                                                  G                                                       G                                                NO CHANGES  WATER PRODUCED FROM GROUNDWATER_numeric  171120.0\n",
       "1  CA0103040  NORRIS CANYON PROPERTY OWNERS ASSN.      Community Water System  2014  February  2/1/2014             28                                                  G                                                       G                                                NO CHANGES  WATER PRODUCED FROM GROUNDWATER_numeric  154560.0\n",
       "2  CA0103040  NORRIS CANYON PROPERTY OWNERS ASSN.      Community Water System  2014     March  3/1/2014             31                                                  G                                                       G                                                NO CHANGES  WATER PRODUCED FROM GROUNDWATER_numeric  171120.0"
      ]
     },
     "execution_count": 63,
     "metadata": {},
     "output_type": "execute_result"
    }
   ],
   "source": [
    "prod_melt[0:3]"
   ]
  },
  {
   "cell_type": "code",
   "execution_count": 64,
   "metadata": {},
   "outputs": [
    {
     "data": {
      "text/html": [
       "<div>\n",
       "<style>\n",
       "    .dataframe thead tr:only-child th {\n",
       "        text-align: right;\n",
       "    }\n",
       "\n",
       "    .dataframe thead th {\n",
       "        text-align: left;\n",
       "    }\n",
       "\n",
       "    .dataframe tbody tr th {\n",
       "        vertical-align: top;\n",
       "    }\n",
       "</style>\n",
       "<table border=\"1\" class=\"dataframe\">\n",
       "  <thead>\n",
       "    <tr style=\"text-align: right;\">\n",
       "      <th></th>\n",
       "      <th>index</th>\n",
       "      <th>value</th>\n",
       "    </tr>\n",
       "  </thead>\n",
       "  <tbody>\n",
       "    <tr>\n",
       "      <th>0</th>\n",
       "      <td>NaN</td>\n",
       "      <td>1035206</td>\n",
       "    </tr>\n",
       "    <tr>\n",
       "      <th>1</th>\n",
       "      <td>8333.0</td>\n",
       "      <td>13614</td>\n",
       "    </tr>\n",
       "    <tr>\n",
       "      <th>2</th>\n",
       "      <td>10000.0</td>\n",
       "      <td>2524</td>\n",
       "    </tr>\n",
       "    <tr>\n",
       "      <th>3</th>\n",
       "      <td>5000.0</td>\n",
       "      <td>2253</td>\n",
       "    </tr>\n",
       "    <tr>\n",
       "      <th>4</th>\n",
       "      <td>0.1</td>\n",
       "      <td>1970</td>\n",
       "    </tr>\n",
       "    <tr>\n",
       "      <th>5</th>\n",
       "      <td>15000.0</td>\n",
       "      <td>1866</td>\n",
       "    </tr>\n",
       "    <tr>\n",
       "      <th>6</th>\n",
       "      <td>20000.0</td>\n",
       "      <td>1761</td>\n",
       "    </tr>\n",
       "    <tr>\n",
       "      <th>7</th>\n",
       "      <td>0.0</td>\n",
       "      <td>1725</td>\n",
       "    </tr>\n",
       "    <tr>\n",
       "      <th>8</th>\n",
       "      <td>30000.0</td>\n",
       "      <td>1631</td>\n",
       "    </tr>\n",
       "    <tr>\n",
       "      <th>9</th>\n",
       "      <td>25000.0</td>\n",
       "      <td>1427</td>\n",
       "    </tr>\n",
       "  </tbody>\n",
       "</table>\n",
       "</div>"
      ],
      "text/plain": [
       "     index    value\n",
       "0      NaN  1035206\n",
       "1   8333.0    13614\n",
       "2  10000.0     2524\n",
       "3   5000.0     2253\n",
       "4      0.1     1970\n",
       "5  15000.0     1866\n",
       "6  20000.0     1761\n",
       "7      0.0     1725\n",
       "8  30000.0     1631\n",
       "9  25000.0     1427"
      ]
     },
     "execution_count": 64,
     "metadata": {},
     "output_type": "execute_result"
    }
   ],
   "source": [
    "prod_melt['value'].value_counts(dropna=False).reset_index()[0:10]"
   ]
  },
  {
   "cell_type": "code",
   "execution_count": 65,
   "metadata": {},
   "outputs": [
    {
     "name": "stdout",
     "output_type": "stream",
     "text": [
      "(880210, 12)\n",
      "(373898, 12)\n"
     ]
    }
   ],
   "source": [
    "# Remove missing values\n",
    "prod_melt = prod_melt[pd.isnull(prod_melt['value'])==False]\n",
    "print(prod_melt.shape)\n",
    "\n",
    "# Remove missing values\n",
    "deliv_melt = deliv_melt[pd.isnull(deliv_melt['value'])==False]\n",
    "print(deliv_melt.shape)"
   ]
  },
  {
   "cell_type": "code",
   "execution_count": 66,
   "metadata": {
    "collapsed": true
   },
   "outputs": [],
   "source": [
    "############\n",
    "# Convert units\n",
    "# Explore units\n",
    "#AF=Acre Feet, \n",
    "#CCF=Hundred Cubic Feet, \n",
    "#MG=Million Gallons\n",
    "#G=Gallons, \n",
    "#HG=Hundred Gallons\n",
    "#DG=Tenth Gallons, \n",
    "#CF=Tenth Cubic Feet\n",
    "#-=NO UNITS REPORTEDOR OIMA REMOVED THE UNITS\n",
    "#############"
   ]
  },
  {
   "cell_type": "code",
   "execution_count": 67,
   "metadata": {},
   "outputs": [
    {
     "data": {
      "text/plain": [
       "G      586605\n",
       "MG     152523\n",
       "AF      98425\n",
       "CCF     39832\n",
       "TG       1169\n",
       "-        1152\n",
       "HG        240\n",
       "DG        216\n",
       "CF         48\n",
       "Name: WATER PRODUCED Water.Units REVIEWED BY OFFICE OF INFORMATION MANAGEMENT AND ANALYSIS, dtype: int64"
      ]
     },
     "execution_count": 67,
     "metadata": {},
     "output_type": "execute_result"
    }
   ],
   "source": [
    "prod_melt['WATER PRODUCED Water.Units REVIEWED BY OFFICE OF INFORMATION MANAGEMENT AND ANALYSIS'].value_counts(dropna=False)"
   ]
  },
  {
   "cell_type": "code",
   "execution_count": 68,
   "metadata": {},
   "outputs": [
    {
     "name": "stdout",
     "output_type": "stream",
     "text": [
      "(879058, 12)\n",
      "(372144, 12)\n"
     ]
    }
   ],
   "source": [
    "# drop rows where the units are not recorded\n",
    "prod_melt = prod_melt[prod_melt['WATER PRODUCED Water.Units REVIEWED BY OFFICE OF INFORMATION MANAGEMENT AND ANALYSIS']!=\"-\"]\n",
    "print(prod_melt.shape)\n",
    "\n",
    "deliv_melt = deliv_melt[deliv_melt['Delivered.Water.Units.Revised BY OFFICE OF INFORMATION MANAGEMENT AND ANALYSIS']!=\"-\"]\n",
    "print(deliv_melt.shape)"
   ]
  },
  {
   "cell_type": "code",
   "execution_count": 69,
   "metadata": {
    "collapsed": true
   },
   "outputs": [],
   "source": [
    "# key = original unit\n",
    "# value = multiplication factor to obtain gallons\n",
    "conversionDict = {\"AF\": 325851.43,\n",
    "                  \"CF\": 0.748052,\n",
    "                \"CCF\":748,\n",
    "                  \"DG\": 10,\n",
    "                  \"G\":1,\n",
    "                  \"HG\": 1/float(100),\n",
    "                  \"MG\": 1/float(1000000),\n",
    "                 \"TG\": .1}"
   ]
  },
  {
   "cell_type": "code",
   "execution_count": 70,
   "metadata": {
    "collapsed": true
   },
   "outputs": [],
   "source": [
    "# convert units to gallons based on conversionDict\n",
    "prod_melt['value_gallons'] = prod_melt[['value',\n",
    "      'WATER PRODUCED Water.Units REVIEWED BY OFFICE OF INFORMATION MANAGEMENT AND ANALYSIS']].apply(lambda x: conversionDict[x[1]]*x[0],axis=1)\n",
    "\n",
    "# convert units to gallons based on conversionDict\n",
    "deliv_melt['value_gallons'] = deliv_melt[['value',\n",
    "      'Delivered.Water.Units.Revised BY OFFICE OF INFORMATION MANAGEMENT AND ANALYSIS']].apply(lambda x: conversionDict[x[1]]*x[0],axis=1)"
   ]
  },
  {
   "cell_type": "code",
   "execution_count": 71,
   "metadata": {},
   "outputs": [
    {
     "data": {
      "text/html": [
       "<div>\n",
       "<style>\n",
       "    .dataframe thead tr:only-child th {\n",
       "        text-align: right;\n",
       "    }\n",
       "\n",
       "    .dataframe thead th {\n",
       "        text-align: left;\n",
       "    }\n",
       "\n",
       "    .dataframe tbody tr th {\n",
       "        vertical-align: top;\n",
       "    }\n",
       "</style>\n",
       "<table border=\"1\" class=\"dataframe\">\n",
       "  <thead>\n",
       "    <tr style=\"text-align: right;\">\n",
       "      <th></th>\n",
       "      <th>PWSID</th>\n",
       "      <th>Water.System.Name</th>\n",
       "      <th>Water.System.Classification</th>\n",
       "      <th>Year</th>\n",
       "      <th>Month</th>\n",
       "      <th>Date</th>\n",
       "      <th>Days.In.Month</th>\n",
       "      <th>WATER PRODUCED Water.Units IN UNITS ORIGINALLY REPORTED</th>\n",
       "      <th>WATER PRODUCED Water.Units REVIEWED BY OFFICE OF INFORMATION MANAGEMENT AND ANALYSIS</th>\n",
       "      <th>UNITS ADJUSTED BY OIMA?</th>\n",
       "      <th>variable</th>\n",
       "      <th>value</th>\n",
       "      <th>value_gallons</th>\n",
       "    </tr>\n",
       "  </thead>\n",
       "  <tbody>\n",
       "    <tr>\n",
       "      <th>0</th>\n",
       "      <td>CA0103040</td>\n",
       "      <td>NORRIS CANYON PROPERTY OWNERS ASSN.</td>\n",
       "      <td>Community Water System</td>\n",
       "      <td>2014</td>\n",
       "      <td>January</td>\n",
       "      <td>1/1/2014</td>\n",
       "      <td>31</td>\n",
       "      <td>G</td>\n",
       "      <td>G</td>\n",
       "      <td>NO CHANGES</td>\n",
       "      <td>WATER PRODUCED FROM GROUNDWATER_numeric</td>\n",
       "      <td>171120.0</td>\n",
       "      <td>171120.0</td>\n",
       "    </tr>\n",
       "    <tr>\n",
       "      <th>1</th>\n",
       "      <td>CA0103040</td>\n",
       "      <td>NORRIS CANYON PROPERTY OWNERS ASSN.</td>\n",
       "      <td>Community Water System</td>\n",
       "      <td>2014</td>\n",
       "      <td>February</td>\n",
       "      <td>2/1/2014</td>\n",
       "      <td>28</td>\n",
       "      <td>G</td>\n",
       "      <td>G</td>\n",
       "      <td>NO CHANGES</td>\n",
       "      <td>WATER PRODUCED FROM GROUNDWATER_numeric</td>\n",
       "      <td>154560.0</td>\n",
       "      <td>154560.0</td>\n",
       "    </tr>\n",
       "    <tr>\n",
       "      <th>2</th>\n",
       "      <td>CA0103040</td>\n",
       "      <td>NORRIS CANYON PROPERTY OWNERS ASSN.</td>\n",
       "      <td>Community Water System</td>\n",
       "      <td>2014</td>\n",
       "      <td>March</td>\n",
       "      <td>3/1/2014</td>\n",
       "      <td>31</td>\n",
       "      <td>G</td>\n",
       "      <td>G</td>\n",
       "      <td>NO CHANGES</td>\n",
       "      <td>WATER PRODUCED FROM GROUNDWATER_numeric</td>\n",
       "      <td>171120.0</td>\n",
       "      <td>171120.0</td>\n",
       "    </tr>\n",
       "    <tr>\n",
       "      <th>3</th>\n",
       "      <td>CA0103040</td>\n",
       "      <td>NORRIS CANYON PROPERTY OWNERS ASSN.</td>\n",
       "      <td>Community Water System</td>\n",
       "      <td>2014</td>\n",
       "      <td>April</td>\n",
       "      <td>4/1/2014</td>\n",
       "      <td>30</td>\n",
       "      <td>G</td>\n",
       "      <td>G</td>\n",
       "      <td>NO CHANGES</td>\n",
       "      <td>WATER PRODUCED FROM GROUNDWATER_numeric</td>\n",
       "      <td>165600.0</td>\n",
       "      <td>165600.0</td>\n",
       "    </tr>\n",
       "  </tbody>\n",
       "</table>\n",
       "</div>"
      ],
      "text/plain": [
       "       PWSID                    Water.System.Name Water.System.Classification  Year     Month      Date  Days.In.Month WATER PRODUCED Water.Units IN UNITS ORIGINALLY REPORTED WATER PRODUCED Water.Units REVIEWED BY OFFICE OF INFORMATION MANAGEMENT AND ANALYSIS UNITS ADJUSTED BY OIMA?                                 variable     value  value_gallons\n",
       "0  CA0103040  NORRIS CANYON PROPERTY OWNERS ASSN.      Community Water System  2014   January  1/1/2014             31                                                  G                                                       G                                                NO CHANGES  WATER PRODUCED FROM GROUNDWATER_numeric  171120.0       171120.0\n",
       "1  CA0103040  NORRIS CANYON PROPERTY OWNERS ASSN.      Community Water System  2014  February  2/1/2014             28                                                  G                                                       G                                                NO CHANGES  WATER PRODUCED FROM GROUNDWATER_numeric  154560.0       154560.0\n",
       "2  CA0103040  NORRIS CANYON PROPERTY OWNERS ASSN.      Community Water System  2014     March  3/1/2014             31                                                  G                                                       G                                                NO CHANGES  WATER PRODUCED FROM GROUNDWATER_numeric  171120.0       171120.0\n",
       "3  CA0103040  NORRIS CANYON PROPERTY OWNERS ASSN.      Community Water System  2014     April  4/1/2014             30                                                  G                                                       G                                                NO CHANGES  WATER PRODUCED FROM GROUNDWATER_numeric  165600.0       165600.0"
      ]
     },
     "execution_count": 71,
     "metadata": {},
     "output_type": "execute_result"
    }
   ],
   "source": [
    "prod_melt[0:4]"
   ]
  },
  {
   "cell_type": "code",
   "execution_count": 72,
   "metadata": {},
   "outputs": [
    {
     "data": {
      "text/html": [
       "<div>\n",
       "<style>\n",
       "    .dataframe thead tr:only-child th {\n",
       "        text-align: right;\n",
       "    }\n",
       "\n",
       "    .dataframe thead th {\n",
       "        text-align: left;\n",
       "    }\n",
       "\n",
       "    .dataframe tbody tr th {\n",
       "        vertical-align: top;\n",
       "    }\n",
       "</style>\n",
       "<table border=\"1\" class=\"dataframe\">\n",
       "  <thead>\n",
       "    <tr style=\"text-align: right;\">\n",
       "      <th></th>\n",
       "      <th>PWSID</th>\n",
       "      <th>Water.System.Name</th>\n",
       "      <th>Water.System.Classification</th>\n",
       "      <th>Year</th>\n",
       "      <th>Month</th>\n",
       "      <th>Date</th>\n",
       "      <th>Days.In.Month</th>\n",
       "      <th>Delivered.Water.Units AS ORIGINALLY REPORTED</th>\n",
       "      <th>Delivered.Water.Units.Revised BY OFFICE OF INFORMATION MANAGEMENT AND ANALYSIS</th>\n",
       "      <th>UNITS ADJUSTED BY OIMA?</th>\n",
       "      <th>variable</th>\n",
       "      <th>value</th>\n",
       "      <th>value_gallons</th>\n",
       "    </tr>\n",
       "  </thead>\n",
       "  <tbody>\n",
       "    <tr>\n",
       "      <th>81</th>\n",
       "      <td>CA0105020</td>\n",
       "      <td>ALAMEDA COUNTY FAIRGROUNDS</td>\n",
       "      <td>Nontransient Noncommunity Water System</td>\n",
       "      <td>2016</td>\n",
       "      <td>January</td>\n",
       "      <td>1/1/2016</td>\n",
       "      <td>31</td>\n",
       "      <td>G</td>\n",
       "      <td>G</td>\n",
       "      <td>NO CHANGES</td>\n",
       "      <td>WATER DELIVERIES TO  Multi.family.Residential_...</td>\n",
       "      <td>11627.0</td>\n",
       "      <td>11627.0</td>\n",
       "    </tr>\n",
       "    <tr>\n",
       "      <th>82</th>\n",
       "      <td>CA0105020</td>\n",
       "      <td>ALAMEDA COUNTY FAIRGROUNDS</td>\n",
       "      <td>Nontransient Noncommunity Water System</td>\n",
       "      <td>2016</td>\n",
       "      <td>February</td>\n",
       "      <td>2/1/2016</td>\n",
       "      <td>29</td>\n",
       "      <td>G</td>\n",
       "      <td>G</td>\n",
       "      <td>NO CHANGES</td>\n",
       "      <td>WATER DELIVERIES TO  Multi.family.Residential_...</td>\n",
       "      <td>7468.0</td>\n",
       "      <td>7468.0</td>\n",
       "    </tr>\n",
       "    <tr>\n",
       "      <th>83</th>\n",
       "      <td>CA0105020</td>\n",
       "      <td>ALAMEDA COUNTY FAIRGROUNDS</td>\n",
       "      <td>Nontransient Noncommunity Water System</td>\n",
       "      <td>2016</td>\n",
       "      <td>March</td>\n",
       "      <td>3/1/2016</td>\n",
       "      <td>31</td>\n",
       "      <td>G</td>\n",
       "      <td>G</td>\n",
       "      <td>NO CHANGES</td>\n",
       "      <td>WATER DELIVERIES TO  Multi.family.Residential_...</td>\n",
       "      <td>9264.0</td>\n",
       "      <td>9264.0</td>\n",
       "    </tr>\n",
       "    <tr>\n",
       "      <th>84</th>\n",
       "      <td>CA0105020</td>\n",
       "      <td>ALAMEDA COUNTY FAIRGROUNDS</td>\n",
       "      <td>Nontransient Noncommunity Water System</td>\n",
       "      <td>2016</td>\n",
       "      <td>April</td>\n",
       "      <td>4/1/2016</td>\n",
       "      <td>30</td>\n",
       "      <td>G</td>\n",
       "      <td>G</td>\n",
       "      <td>NO CHANGES</td>\n",
       "      <td>WATER DELIVERIES TO  Multi.family.Residential_...</td>\n",
       "      <td>11066.0</td>\n",
       "      <td>11066.0</td>\n",
       "    </tr>\n",
       "  </tbody>\n",
       "</table>\n",
       "</div>"
      ],
      "text/plain": [
       "        PWSID           Water.System.Name             Water.System.Classification  Year     Month      Date  Days.In.Month Delivered.Water.Units AS ORIGINALLY REPORTED Delivered.Water.Units.Revised BY OFFICE OF INFORMATION MANAGEMENT AND ANALYSIS UNITS ADJUSTED BY OIMA?                                           variable    value  value_gallons\n",
       "81  CA0105020  ALAMEDA COUNTY FAIRGROUNDS  Nontransient Noncommunity Water System  2016   January  1/1/2016             31                                            G                                                  G                                          NO CHANGES  WATER DELIVERIES TO  Multi.family.Residential_...  11627.0        11627.0\n",
       "82  CA0105020  ALAMEDA COUNTY FAIRGROUNDS  Nontransient Noncommunity Water System  2016  February  2/1/2016             29                                            G                                                  G                                          NO CHANGES  WATER DELIVERIES TO  Multi.family.Residential_...   7468.0         7468.0\n",
       "83  CA0105020  ALAMEDA COUNTY FAIRGROUNDS  Nontransient Noncommunity Water System  2016     March  3/1/2016             31                                            G                                                  G                                          NO CHANGES  WATER DELIVERIES TO  Multi.family.Residential_...   9264.0         9264.0\n",
       "84  CA0105020  ALAMEDA COUNTY FAIRGROUNDS  Nontransient Noncommunity Water System  2016     April  4/1/2016             30                                            G                                                  G                                          NO CHANGES  WATER DELIVERIES TO  Multi.family.Residential_...  11066.0        11066.0"
      ]
     },
     "execution_count": 72,
     "metadata": {},
     "output_type": "execute_result"
    }
   ],
   "source": [
    "deliv_melt[0:4]"
   ]
  },
  {
   "cell_type": "code",
   "execution_count": null,
   "metadata": {
    "collapsed": true
   },
   "outputs": [],
   "source": []
  },
  {
   "cell_type": "code",
   "execution_count": 73,
   "metadata": {
    "scrolled": true
   },
   "outputs": [
    {
     "data": {
      "text/html": [
       "<div>\n",
       "<style>\n",
       "    .dataframe thead tr:only-child th {\n",
       "        text-align: right;\n",
       "    }\n",
       "\n",
       "    .dataframe thead th {\n",
       "        text-align: left;\n",
       "    }\n",
       "\n",
       "    .dataframe tbody tr th {\n",
       "        vertical-align: top;\n",
       "    }\n",
       "</style>\n",
       "<table border=\"1\" class=\"dataframe\">\n",
       "  <thead>\n",
       "    <tr style=\"text-align: right;\">\n",
       "      <th></th>\n",
       "      <th>PWSID</th>\n",
       "      <th>Water.System.Name</th>\n",
       "      <th>Water.System.Classification</th>\n",
       "      <th>Year</th>\n",
       "      <th>Month</th>\n",
       "      <th>Date</th>\n",
       "      <th>Days.In.Month</th>\n",
       "      <th>Delivered.Water.Units AS ORIGINALLY REPORTED</th>\n",
       "      <th>Delivered.Water.Units.Revised BY OFFICE OF INFORMATION MANAGEMENT AND ANALYSIS</th>\n",
       "      <th>UNITS ADJUSTED BY OIMA?</th>\n",
       "      <th>variable</th>\n",
       "      <th>value</th>\n",
       "      <th>value_gallons</th>\n",
       "    </tr>\n",
       "  </thead>\n",
       "  <tbody>\n",
       "    <tr>\n",
       "      <th>93</th>\n",
       "      <td>CA0110001</td>\n",
       "      <td>ALAMEDA COUNTY WATER DISTRICT</td>\n",
       "      <td>Large Water System</td>\n",
       "      <td>2013</td>\n",
       "      <td>January</td>\n",
       "      <td>1/1/2013</td>\n",
       "      <td>31</td>\n",
       "      <td>CCF</td>\n",
       "      <td>CCF</td>\n",
       "      <td>NO CHANGES</td>\n",
       "      <td>WATER DELIVERIES TO  Multi.family.Residential_...</td>\n",
       "      <td>319647.0</td>\n",
       "      <td>239095956.0</td>\n",
       "    </tr>\n",
       "    <tr>\n",
       "      <th>94</th>\n",
       "      <td>CA0110001</td>\n",
       "      <td>ALAMEDA COUNTY WATER DISTRICT</td>\n",
       "      <td>Large Water System</td>\n",
       "      <td>2013</td>\n",
       "      <td>February</td>\n",
       "      <td>2/1/2013</td>\n",
       "      <td>28</td>\n",
       "      <td>CCF</td>\n",
       "      <td>CCF</td>\n",
       "      <td>NO CHANGES</td>\n",
       "      <td>WATER DELIVERIES TO  Multi.family.Residential_...</td>\n",
       "      <td>166529.0</td>\n",
       "      <td>124563692.0</td>\n",
       "    </tr>\n",
       "    <tr>\n",
       "      <th>95</th>\n",
       "      <td>CA0110001</td>\n",
       "      <td>ALAMEDA COUNTY WATER DISTRICT</td>\n",
       "      <td>Large Water System</td>\n",
       "      <td>2013</td>\n",
       "      <td>March</td>\n",
       "      <td>3/1/2013</td>\n",
       "      <td>31</td>\n",
       "      <td>CCF</td>\n",
       "      <td>CCF</td>\n",
       "      <td>NO CHANGES</td>\n",
       "      <td>WATER DELIVERIES TO  Multi.family.Residential_...</td>\n",
       "      <td>335448.0</td>\n",
       "      <td>250915104.0</td>\n",
       "    </tr>\n",
       "  </tbody>\n",
       "</table>\n",
       "</div>"
      ],
      "text/plain": [
       "        PWSID              Water.System.Name Water.System.Classification  Year     Month      Date  Days.In.Month Delivered.Water.Units AS ORIGINALLY REPORTED Delivered.Water.Units.Revised BY OFFICE OF INFORMATION MANAGEMENT AND ANALYSIS UNITS ADJUSTED BY OIMA?                                           variable     value  value_gallons\n",
       "93  CA0110001  ALAMEDA COUNTY WATER DISTRICT          Large Water System  2013   January  1/1/2013             31                                          CCF                                                CCF                                          NO CHANGES  WATER DELIVERIES TO  Multi.family.Residential_...  319647.0    239095956.0\n",
       "94  CA0110001  ALAMEDA COUNTY WATER DISTRICT          Large Water System  2013  February  2/1/2013             28                                          CCF                                                CCF                                          NO CHANGES  WATER DELIVERIES TO  Multi.family.Residential_...  166529.0    124563692.0\n",
       "95  CA0110001  ALAMEDA COUNTY WATER DISTRICT          Large Water System  2013     March  3/1/2013             31                                          CCF                                                CCF                                          NO CHANGES  WATER DELIVERIES TO  Multi.family.Residential_...  335448.0    250915104.0"
      ]
     },
     "execution_count": 73,
     "metadata": {},
     "output_type": "execute_result"
    }
   ],
   "source": [
    "deliv_melt[deliv_melt['Delivered.Water.Units.Revised BY OFFICE OF INFORMATION MANAGEMENT AND ANALYSIS']!=\"G\"][0:3]"
   ]
  },
  {
   "cell_type": "code",
   "execution_count": 78,
   "metadata": {},
   "outputs": [
    {
     "data": {
      "text/plain": [
       "Total. RESIDENTIAL Delivered.Gallons (Total Does not include Landscape Irrigation, Agricultural or to other PWS)_numeric                             77747\n",
       "WATER DELIVERIES Total.Delivered Residential IN REVISED UNITS (Total Does not include Landscape Irrigation, Agricultural or to other PWS)_numeric    77747\n",
       "CALCULATED GPCD (Total delivery to residential in gallons per capita day)_numeric                                                                    74250\n",
       "WATER DELIVERIES TO  Commercial.Institutional_numeric                                                                                                45464\n",
       "WATER DELIVERIES TO  Multi.family.Residential_numeric                                                                                                27849\n",
       "WATER DELIVERIES TO  Landscape.Irrigation_numeric                                                                                                    23328\n",
       "WATER DELIVERIES TO  Industrial_numeric                                                                                                              17829\n",
       "WATER DELIVERIES TO  Other_numeric                                                                                                                   17686\n",
       "WATER DELIVERIES TO  Agricultural_numeric                                                                                                             5332\n",
       "WATER DELIVERIES TO  Other.PWS_numeric                                                                                                                4912\n",
       "Name: variable, dtype: int64"
      ]
     },
     "execution_count": 78,
     "metadata": {},
     "output_type": "execute_result"
    }
   ],
   "source": [
    "deliv_melt['variable'].value_counts()"
   ]
  },
  {
   "cell_type": "code",
   "execution_count": 79,
   "metadata": {},
   "outputs": [
    {
     "data": {
      "text/plain": [
       "TOTAL POTABLE WATER IN GALLONS (Total Does not Include Sold, Non-potable and Recycled amounts)_numeric                      211980\n",
       "TOTAL POTABLE WATER PRODUCED USING REVISED UNITS (Total Does not Include Sold, Non-potable and Recycled amounts)_numeric    211980\n",
       "CALCULATED GPCD (Total Potable Produced in gallons per capita day)_numeric                                                  205806\n",
       "WATER PRODUCED FROM GROUNDWATER_numeric                                                                                     179179\n",
       "WATER PRODUCED FROM SURFACE WATER_numeric                                                                                    28998\n",
       "FINSIHIED WATER PURCHASED OR RECEIVED FROM ANOTHER PUBLIC WATER SYSTEM_numeric                                               22750\n",
       "WATER SOLD TO ANOTHER PUBLIC WATER SYSTEM_numeric                                                                             7602\n",
       "RECYCLED WATER PRODUCED_numeric                                                                                               6536\n",
       "Non-Potable Produced Water (EXCLUDING RECYCLING)_numeric                                                                      4227\n",
       "Name: variable, dtype: int64"
      ]
     },
     "execution_count": 79,
     "metadata": {},
     "output_type": "execute_result"
    }
   ],
   "source": [
    "prod_melt['variable'].value_counts()"
   ]
  },
  {
   "cell_type": "code",
   "execution_count": 74,
   "metadata": {
    "collapsed": true
   },
   "outputs": [],
   "source": [
    "prod_melt.to_csv(\"{}1_initial_eda___prod.csv\".format(processed_data_path),index=False)\n",
    "deliv_melt.to_csv(\"{}1_initial_eda___deliv.csv\".format(processed_data_path),index=False)"
   ]
  },
  {
   "cell_type": "code",
   "execution_count": 76,
   "metadata": {},
   "outputs": [
    {
     "data": {
      "text/plain": [
       "2589"
      ]
     },
     "execution_count": 76,
     "metadata": {},
     "output_type": "execute_result"
    }
   ],
   "source": [
    "len(set(prod_melt['PWSID']).intersection(set(deliv_melt['PWSID'])))"
   ]
  },
  {
   "cell_type": "code",
   "execution_count": 77,
   "metadata": {},
   "outputs": [
    {
     "data": {
      "text/plain": [
       "6219"
      ]
     },
     "execution_count": 77,
     "metadata": {},
     "output_type": "execute_result"
    }
   ],
   "source": [
    "len(prod_melt['PWSID'].unique())"
   ]
  },
  {
   "cell_type": "code",
   "execution_count": 82,
   "metadata": {},
   "outputs": [
    {
     "data": {
      "text/plain": [
       "['WATER PRODUCED FROM GROUNDWATER',\n",
       " 'WATER PRODUCED FROM SURFACE WATER',\n",
       " 'FINSIHIED WATER PURCHASED OR RECEIVED FROM ANOTHER PUBLIC WATER SYSTEM',\n",
       " 'WATER SOLD TO ANOTHER PUBLIC WATER SYSTEM',\n",
       " 'Non-Potable Produced Water (EXCLUDING RECYCLING)',\n",
       " 'RECYCLED WATER PRODUCED',\n",
       " 'TOTAL POTABLE WATER PRODUCED USING REVISED UNITS (Total Does not Include Sold, Non-potable and Recycled amounts)',\n",
       " 'TOTAL POTABLE WATER IN GALLONS (Total Does not Include Sold, Non-potable and Recycled amounts)',\n",
       " 'Population Of Service Area',\n",
       " 'CALCULATED GPCD (Total Potable Produced in gallons per capita day)']"
      ]
     },
     "execution_count": 82,
     "metadata": {},
     "output_type": "execute_result"
    }
   ],
   "source": [
    "list(numeric_prod_col)"
   ]
  },
  {
   "cell_type": "code",
   "execution_count": 85,
   "metadata": {},
   "outputs": [],
   "source": [
    "prod_melt[prod_melt['variable'].isin(list(numeric_prod_col))==False].to_csv(\"{}1_initial_eda___prod.csv\".format(processed_data_path),index=False)\n",
    "deliv_melt[deliv_melt['variable'].isin(list(numeric_deliv_col))==False].to_csv(\"{}1_initial_eda___deliv.csv\".format(processed_data_path),index=False)"
   ]
  },
  {
   "cell_type": "code",
   "execution_count": null,
   "metadata": {
    "collapsed": true
   },
   "outputs": [],
   "source": [
    "############\n",
    "# Compare Water system classification in prod and deliv files\n",
    "#############"
   ]
  },
  {
   "cell_type": "code",
   "execution_count": null,
   "metadata": {
    "collapsed": true
   },
   "outputs": [],
   "source": [
    "water_class_deliv = deliv_melt[pd.isnull(deliv_melt['Water.System.Classification'])==False][['PWSID','Water.System.Classification','Date']].drop_duplicates()\n",
    "water_class_prod = prod_melt[pd.isnull(prod_melt['Water.System.Classification'])==False][['PWSID','Water.System.Classification','Date']].drop_duplicates()\n",
    "merged_water_class = water_class_deliv.merge(water_class_prod,on=['PWSID','Date'],suffixes=['_deliv','_prod'])"
   ]
  },
  {
   "cell_type": "code",
   "execution_count": null,
   "metadata": {
    "collapsed": true
   },
   "outputs": [],
   "source": [
    "# Water system classifications are consistent by PWID/Date across prod and delivery files\n",
    "merged_water_class[merged_water_class['Water.System.Classification_deliv']!=merged_water_class['Water.System.Classification_prod']]"
   ]
  },
  {
   "cell_type": "code",
   "execution_count": null,
   "metadata": {
    "collapsed": true
   },
   "outputs": [],
   "source": [
    "############\n",
    "# How many water systems have null water system classifications?\n",
    "#############"
   ]
  },
  {
   "cell_type": "code",
   "execution_count": null,
   "metadata": {
    "collapsed": true
   },
   "outputs": [],
   "source": [
    "null_class_deliv = deliv_melt[pd.isnull(deliv_melt['Water.System.Classification'])]['PWSID'].unique()\n",
    "null_class_prod = deliv_melt[pd.isnull(deliv_melt['Water.System.Classification'])]['PWSID'].unique()"
   ]
  },
  {
   "cell_type": "code",
   "execution_count": null,
   "metadata": {
    "collapsed": true
   },
   "outputs": [],
   "source": [
    "non_null_class_deliv = deliv_melt[pd.isnull(deliv_melt['Water.System.Classification'])==False]['PWSID'].unique()\n",
    "non_null_class_prod = deliv_melt[pd.isnull(deliv_melt['Water.System.Classification'])==False]['PWSID'].unique()"
   ]
  },
  {
   "cell_type": "code",
   "execution_count": null,
   "metadata": {
    "collapsed": true
   },
   "outputs": [],
   "source": [
    "set(non_null_class_deliv).intersection(set(null_class_deliv))\n",
    "# We may be able to fill in missing water system classificatiosn for these PWSID\n",
    "# The Water System Classification is populated in some rows for these PWSID"
   ]
  },
  {
   "cell_type": "code",
   "execution_count": null,
   "metadata": {
    "collapsed": true
   },
   "outputs": [],
   "source": [
    "set(non_null_class_prod).intersection(set(null_class_prod))\n",
    "# We may be able to fill in missing water system classificatiosn for these PWSID\n",
    "# The Water System Classification is populated in some rows for these PWSID"
   ]
  },
  {
   "cell_type": "code",
   "execution_count": null,
   "metadata": {
    "collapsed": true
   },
   "outputs": [],
   "source": [
    "deliv_melt[deliv_melt['PWSID']==\"CA1300572\"]"
   ]
  },
  {
   "cell_type": "code",
   "execution_count": null,
   "metadata": {
    "collapsed": true
   },
   "outputs": [],
   "source": [
    "############\n",
    "# What is the unique key?\n",
    "#############"
   ]
  },
  {
   "cell_type": "code",
   "execution_count": null,
   "metadata": {
    "collapsed": true
   },
   "outputs": [],
   "source": [
    "rowCounts = prod_melt.groupby(['PWSID','Date','variable']).count().reset_index()\n",
    "rowCounts[rowCounts['Water.System.Name']>1][0:4]"
   ]
  },
  {
   "cell_type": "code",
   "execution_count": null,
   "metadata": {
    "collapsed": true
   },
   "outputs": [],
   "source": [
    "# review a sample \"key\" that has multiple rows\n",
    "prod_melt[ (prod_melt['PWSID']==\"CA3410022\")\n",
    "         & (prod_melt['Date']==\"1/1/2015\")\n",
    "         & (prod_melt['variable'].str.contains(\"CALCULATED GPCD\"))]"
   ]
  },
  {
   "cell_type": "code",
   "execution_count": null,
   "metadata": {
    "collapsed": true
   },
   "outputs": [],
   "source": [
    "ctClassByName = prod_melt.groupby(['Water.System.Name']).agg({ \"Water.System.Classification\": lambda x: x.nunique()}).reset_index()\n",
    "print(\"{} water systems have multiple classifications\".format(ctClassByName[ctClassByName[\"Water.System.Classification\"]>1].shape))\n",
    "ctClassByName[ctClassByName[\"Water.System.Classification\"]>1][0:10]"
   ]
  },
  {
   "cell_type": "code",
   "execution_count": null,
   "metadata": {
    "collapsed": true
   },
   "outputs": [],
   "source": [
    "ctClassNameByDate = prod_melt.groupby(['Water.System.Name',\"Water.System.Classification\"]).agg({ \"Date\": lambda x: x.nunique()}).reset_index()\n",
    "ctClassNameByDate = ctClassNameByDate[ctClassNameByDate['Water.System.Name'].isin(ctClassByName[ctClassByName[\"Water.System.Classification\"]>1]['Water.System.Name'])]"
   ]
  },
  {
   "cell_type": "code",
   "execution_count": null,
   "metadata": {
    "collapsed": true
   },
   "outputs": [],
   "source": [
    "ctClassNameByDate[0:10]\n",
    "# some water systems have two classifications"
   ]
  },
  {
   "cell_type": "code",
   "execution_count": null,
   "metadata": {
    "collapsed": true
   },
   "outputs": [],
   "source": [
    "prod_melt[prod_melt['Water.System.Name']==\"ALPINE CAMP AND CONFERENCE CENTER\"]\n",
    "# this system changed from non-transient to transiet"
   ]
  },
  {
   "cell_type": "code",
   "execution_count": null,
   "metadata": {
    "collapsed": true
   },
   "outputs": [],
   "source": [
    "# try adding Water System Classification to the key\n",
    "rowCounts = prod_melt.groupby(['PWSID','Water.System.Classification','Date','variable']).count().reset_index()\n",
    "rowCounts[rowCounts['Water.System.Name']>1]"
   ]
  },
  {
   "cell_type": "code",
   "execution_count": null,
   "metadata": {
    "collapsed": true
   },
   "outputs": [],
   "source": [
    "rowCounts = deliv_melt.groupby(['PWSID','Date','variable']).count().reset_index()\n",
    "rowCounts[rowCounts['Water.System.Name']>1][0:4]"
   ]
  },
  {
   "cell_type": "code",
   "execution_count": null,
   "metadata": {
    "collapsed": true
   },
   "outputs": [],
   "source": []
  },
  {
   "cell_type": "code",
   "execution_count": null,
   "metadata": {
    "collapsed": true
   },
   "outputs": [],
   "source": []
  }
 ],
 "metadata": {
  "kernelspec": {
   "display_name": "Python 3",
   "language": "python",
   "name": "python3"
  },
  "language_info": {
   "codemirror_mode": {
    "name": "ipython",
    "version": 3
   },
   "file_extension": ".py",
   "mimetype": "text/x-python",
   "name": "python",
   "nbconvert_exporter": "python",
   "pygments_lexer": "ipython3",
   "version": "3.6.3"
  }
 },
 "nbformat": 4,
 "nbformat_minor": 2
}
